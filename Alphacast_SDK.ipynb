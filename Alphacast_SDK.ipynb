{
 "cells": [
  {
   "cell_type": "markdown",
   "id": "703f91f2",
   "metadata": {},
   "source": [
    "https://learn.alphacast.io/\n",
    "https://alphacast-python-sdk.readthedocs.io/en/latest/reference.html#uploading-data"
   ]
  },
  {
   "cell_type": "code",
   "execution_count": null,
   "id": "f7b7477e",
   "metadata": {},
   "outputs": [],
   "source": [
    "pip install alphacast"
   ]
  },
  {
   "cell_type": "code",
   "execution_count": 8,
   "id": "a215ad56",
   "metadata": {},
   "outputs": [
    {
     "data": {
      "text/plain": [
       "[{'id': 16347,\n",
       "  'name': 'Home',\n",
       "  'accountId': 8755,\n",
       "  'description': '',\n",
       "  'privacy': 'Private',\n",
       "  'slug': 'home-16347',\n",
       "  'permission': 'Owner'},\n",
       " {'id': 16348,\n",
       "  'name': \"MIbarra83's Public Repo\",\n",
       "  'accountId': 8755,\n",
       "  'description': 'You can use you first public repository to share content with the community',\n",
       "  'privacy': 'Public',\n",
       "  'slug': 'mibarra83-s-public-repo-16348',\n",
       "  'permission': 'Owner'}]"
      ]
     },
     "execution_count": 8,
     "metadata": {},
     "output_type": "execute_result"
    }
   ],
   "source": [
    "## Alphacast \n",
    "from alphacast import Alphacast\n",
    "\n",
    "API = 'ak_ZcvH7CLz356nl0aF5DMv'\n",
    "\n",
    "alphacast = Alphacast(API)\n",
    "\n",
    "alphacast.repository.read_all()"
   ]
  },
  {
   "cell_type": "code",
   "execution_count": 4,
   "id": "b8b0e591",
   "metadata": {},
   "outputs": [
    {
     "data": {
      "text/plain": [
       "{'id': 43905,\n",
       " 'name': 'Test_IPC',\n",
       " 'createdAt': '2025-01-15T11:19:05.429636',\n",
       " 'repositoryId': 16347}"
      ]
     },
     "execution_count": 4,
     "metadata": {},
     "output_type": "execute_result"
    }
   ],
   "source": [
    "## Leer: Crear datasets / Subir Data\n",
    "\n",
    "dataset_name = \"Test_IPC\"  # Nombre del dataset\n",
    "repo_id = 16347  # ID del repositorio donde se creará el dataset\n",
    "repo_privacy='Public'\n",
    "description = \"Este es un dataset de ejemplo para demostrar cómo subir datos a Alphacast.\"\n",
    "file_path = \"Output_IPC.csv\"  # Ruta al archivo CSV\n",
    "\n",
    "# Crear Dataset\n",
    "alphacast.datasets.create(dataset_name, repo_id, description)"
   ]
  },
  {
   "cell_type": "markdown",
   "id": "18701b65",
   "metadata": {},
   "source": [
    "    {'id': 43905,\n",
    "     'name': 'Test_IPC',\n",
    "     'createdAt': '2025-01-15T11:19:05.429636',\n",
    "     'repositoryId': 16347}"
   ]
  },
  {
   "cell_type": "code",
   "execution_count": 7,
   "id": "aa837822",
   "metadata": {},
   "outputs": [
    {
     "data": {
      "text/plain": [
       "{'id': 16347,\n",
       " 'name': 'Home',\n",
       " 'accountId': 8755,\n",
       " 'description': '',\n",
       " 'privacy': 'Private',\n",
       " 'slug': 'home-16347',\n",
       " 'permission': 'Owner'}"
      ]
     },
     "execution_count": 7,
     "metadata": {},
     "output_type": "execute_result"
    }
   ],
   "source": [
    "# Leer repositorio \n",
    "\n",
    "alphacast.repository.read_by_id(16347)"
   ]
  },
  {
   "cell_type": "code",
   "execution_count": 11,
   "id": "54e09fc6",
   "metadata": {},
   "outputs": [
    {
     "data": {
      "text/plain": [
       "[{'id': 43905,\n",
       "  'name': 'Test_IPC',\n",
       "  'createdAt': '2025-01-15T11:19:05',\n",
       "  'updatedAt': '2025-01-15T11:19:05',\n",
       "  'repositoryId': 16347,\n",
       "  'permission': 'Owner'},\n",
       " {'id': 43906,\n",
       "  'name': 'desafio_tecnico',\n",
       "  'createdAt': '2025-01-15T12:06:10',\n",
       "  'updatedAt': '2025-01-15T12:06:10',\n",
       "  'repositoryId': 16347,\n",
       "  'permission': 'Owner'}]"
      ]
     },
     "execution_count": 11,
     "metadata": {},
     "output_type": "execute_result"
    }
   ],
   "source": [
    "alphacast.datasets.read_all()"
   ]
  },
  {
   "cell_type": "code",
   "execution_count": 10,
   "id": "257e5b9e",
   "metadata": {},
   "outputs": [
    {
     "data": {
      "text/plain": [
       "{'id': 43906,\n",
       " 'name': 'desafio_tecnico',\n",
       " 'createdAt': '2025-01-15T12:06:10.043858',\n",
       " 'repositoryId': 16347}"
      ]
     },
     "execution_count": 10,
     "metadata": {},
     "output_type": "execute_result"
    }
   ],
   "source": [
    "# Crear dataset\n",
    "dataset_name = 'desafio_tecnico'\n",
    "repo_id = 16347\n",
    "description = 'Indice IPC Indec 2017-2024)'\n",
    "\n",
    "alphacast.datasets.create(dataset_name, repo_id, description)"
   ]
  },
  {
   "cell_type": "code",
   "execution_count": 13,
   "id": "ec746a96",
   "metadata": {},
   "outputs": [
    {
     "data": {
      "text/html": [
       "<div>\n",
       "<style scoped>\n",
       "    .dataframe tbody tr th:only-of-type {\n",
       "        vertical-align: middle;\n",
       "    }\n",
       "\n",
       "    .dataframe tbody tr th {\n",
       "        vertical-align: top;\n",
       "    }\n",
       "\n",
       "    .dataframe thead th {\n",
       "        text-align: right;\n",
       "    }\n",
       "</style>\n",
       "<table border=\"1\" class=\"dataframe\">\n",
       "  <thead>\n",
       "    <tr style=\"text-align: right;\">\n",
       "      <th></th>\n",
       "      <th>Unnamed: 0</th>\n",
       "      <th>Date</th>\n",
       "      <th>Region</th>\n",
       "      <th>Product</th>\n",
       "      <th>Unit</th>\n",
       "      <th>Price</th>\n",
       "    </tr>\n",
       "  </thead>\n",
       "  <tbody>\n",
       "    <tr>\n",
       "      <th>0</th>\n",
       "      <td>0</td>\n",
       "      <td>2017-06-01</td>\n",
       "      <td>GBA</td>\n",
       "      <td>Pan francés</td>\n",
       "      <td>kg</td>\n",
       "      <td>38.64</td>\n",
       "    </tr>\n",
       "    <tr>\n",
       "      <th>1</th>\n",
       "      <td>1</td>\n",
       "      <td>2017-06-01</td>\n",
       "      <td>GBA</td>\n",
       "      <td>Harina de trigo común</td>\n",
       "      <td>kg</td>\n",
       "      <td>10.67</td>\n",
       "    </tr>\n",
       "    <tr>\n",
       "      <th>2</th>\n",
       "      <td>2</td>\n",
       "      <td>2017-06-01</td>\n",
       "      <td>GBA</td>\n",
       "      <td>Arroz blanco simple</td>\n",
       "      <td>kg</td>\n",
       "      <td>20.96</td>\n",
       "    </tr>\n",
       "    <tr>\n",
       "      <th>3</th>\n",
       "      <td>3</td>\n",
       "      <td>2017-06-01</td>\n",
       "      <td>GBA</td>\n",
       "      <td>Fideos secos tipo guisero</td>\n",
       "      <td>500 g</td>\n",
       "      <td>19.08</td>\n",
       "    </tr>\n",
       "    <tr>\n",
       "      <th>4</th>\n",
       "      <td>4</td>\n",
       "      <td>2017-06-01</td>\n",
       "      <td>GBA</td>\n",
       "      <td>Carne picada común</td>\n",
       "      <td>kg</td>\n",
       "      <td>72.2</td>\n",
       "    </tr>\n",
       "  </tbody>\n",
       "</table>\n",
       "</div>"
      ],
      "text/plain": [
       "   Unnamed: 0        Date Region                    Product   Unit  Price\n",
       "0           0  2017-06-01    GBA                Pan francés     kg  38.64\n",
       "1           1  2017-06-01    GBA      Harina de trigo común     kg  10.67\n",
       "2           2  2017-06-01    GBA        Arroz blanco simple     kg  20.96\n",
       "3           3  2017-06-01    GBA  Fideos secos tipo guisero  500 g  19.08\n",
       "4           4  2017-06-01    GBA         Carne picada común     kg   72.2"
      ]
     },
     "execution_count": 13,
     "metadata": {},
     "output_type": "execute_result"
    }
   ],
   "source": [
    "import pandas as pd\n",
    "\n",
    "# 1. Cargar el archivo CSV en un DataFrame\n",
    "file_path = \"output_IPC.csv\"  # Ruta al archivo CSV\n",
    "df = pd.read_csv(file_path)"
   ]
  },
  {
   "cell_type": "code",
   "execution_count": 16,
   "id": "818c041d",
   "metadata": {},
   "outputs": [],
   "source": [
    "# Renombrar la columna 'Unnamed: 0' a 'id'\n",
    "df.rename(columns={'Unnamed: 0': 'id'}, inplace=True)\n",
    "\n",
    "# Reordenar id\n",
    "df = df[['Date', 'Region', 'Product', 'Unit', 'Price', 'id']]"
   ]
  },
  {
   "cell_type": "code",
   "execution_count": 17,
   "id": "6c245245",
   "metadata": {},
   "outputs": [
    {
     "data": {
      "text/html": [
       "<div>\n",
       "<style scoped>\n",
       "    .dataframe tbody tr th:only-of-type {\n",
       "        vertical-align: middle;\n",
       "    }\n",
       "\n",
       "    .dataframe tbody tr th {\n",
       "        vertical-align: top;\n",
       "    }\n",
       "\n",
       "    .dataframe thead th {\n",
       "        text-align: right;\n",
       "    }\n",
       "</style>\n",
       "<table border=\"1\" class=\"dataframe\">\n",
       "  <thead>\n",
       "    <tr style=\"text-align: right;\">\n",
       "      <th></th>\n",
       "      <th>Date</th>\n",
       "      <th>Region</th>\n",
       "      <th>Product</th>\n",
       "      <th>Unit</th>\n",
       "      <th>Price</th>\n",
       "      <th>id</th>\n",
       "    </tr>\n",
       "  </thead>\n",
       "  <tbody>\n",
       "    <tr>\n",
       "      <th>0</th>\n",
       "      <td>2017-06-01</td>\n",
       "      <td>GBA</td>\n",
       "      <td>Pan francés</td>\n",
       "      <td>kg</td>\n",
       "      <td>38.64</td>\n",
       "      <td>0</td>\n",
       "    </tr>\n",
       "    <tr>\n",
       "      <th>1</th>\n",
       "      <td>2017-06-01</td>\n",
       "      <td>GBA</td>\n",
       "      <td>Harina de trigo común</td>\n",
       "      <td>kg</td>\n",
       "      <td>10.67</td>\n",
       "      <td>1</td>\n",
       "    </tr>\n",
       "    <tr>\n",
       "      <th>2</th>\n",
       "      <td>2017-06-01</td>\n",
       "      <td>GBA</td>\n",
       "      <td>Arroz blanco simple</td>\n",
       "      <td>kg</td>\n",
       "      <td>20.96</td>\n",
       "      <td>2</td>\n",
       "    </tr>\n",
       "    <tr>\n",
       "      <th>3</th>\n",
       "      <td>2017-06-01</td>\n",
       "      <td>GBA</td>\n",
       "      <td>Fideos secos tipo guisero</td>\n",
       "      <td>500 g</td>\n",
       "      <td>19.08</td>\n",
       "      <td>3</td>\n",
       "    </tr>\n",
       "    <tr>\n",
       "      <th>4</th>\n",
       "      <td>2017-06-01</td>\n",
       "      <td>GBA</td>\n",
       "      <td>Carne picada común</td>\n",
       "      <td>kg</td>\n",
       "      <td>72.2</td>\n",
       "      <td>4</td>\n",
       "    </tr>\n",
       "  </tbody>\n",
       "</table>\n",
       "</div>"
      ],
      "text/plain": [
       "         Date Region                    Product   Unit  Price  id\n",
       "0  2017-06-01    GBA                Pan francés     kg  38.64   0\n",
       "1  2017-06-01    GBA      Harina de trigo común     kg  10.67   1\n",
       "2  2017-06-01    GBA        Arroz blanco simple     kg  20.96   2\n",
       "3  2017-06-01    GBA  Fideos secos tipo guisero  500 g  19.08   3\n",
       "4  2017-06-01    GBA         Carne picada común     kg   72.2   4"
      ]
     },
     "execution_count": 17,
     "metadata": {},
     "output_type": "execute_result"
    }
   ],
   "source": [
    "df.head(5)"
   ]
  },
  {
   "cell_type": "code",
   "execution_count": 19,
   "id": "79a033a6",
   "metadata": {},
   "outputs": [
    {
     "data": {
      "text/plain": [
       "b'{\"id\": 43906, \"columnDefinitions\": [{\"sourceName\": \"Date\", \"dataType\": \"Date\", \"dateFormat\": \"%Y-%m-%d\", \"isEntity\": \"True\"}, {\"sourceName\": \"id\", \"isEntity\": \"True\"}], \"updateAt\": \"2025-01-15T12:19:11.163962\"}'"
      ]
     },
     "execution_count": 19,
     "metadata": {},
     "output_type": "execute_result"
    }
   ],
   "source": [
    "dataset_id = 43906\n",
    "\n",
    "\n",
    "alphacast.datasets.dataset(dataset_id).initialize_columns(dateColumnName=\"Date\", entitiesColumnNames=[\"id\"], dateFormat=\"%Y-%m-%d\")"
   ]
  },
  {
   "cell_type": "code",
   "execution_count": 20,
   "id": "d5475069",
   "metadata": {},
   "outputs": [
    {
     "data": {
      "text/plain": [
       "b'{\"id\": 5168310, \"status\": \"Requested\", \"createdAt\": \"2025-01-15T12:20:20.711328\", \"datasetId\": 43906}'"
      ]
     },
     "execution_count": 20,
     "metadata": {},
     "output_type": "execute_result"
    }
   ],
   "source": [
    "alphacast.datasets.dataset(43906).upload_data_from_df(df, deleteMissingFromDB = False, onConflictUpdateDB = False, uploadIndex=False)"
   ]
  },
  {
   "cell_type": "markdown",
   "id": "361f246b",
   "metadata": {},
   "source": [
    "## Check Status del proceso"
   ]
  },
  {
   "cell_type": "code",
   "execution_count": 21,
   "id": "d5c3f7a9",
   "metadata": {},
   "outputs": [
    {
     "data": {
      "text/plain": [
       "b'[{\"id\": 5168310, \"datasetId\": 43906, \"status\": \"Processed\", \"statusDescription\": \"7560 values added to database./n\", \"deleteMissingFromDB\": 0, \"onConflictUpdateDB\": 0, \"createdAt\": \"2025-01-15T12:20:20\", \"processedAt\": \"2025-01-15T12:20:23\"}]'"
      ]
     },
     "execution_count": 21,
     "metadata": {},
     "output_type": "execute_result"
    }
   ],
   "source": [
    "alphacast.datasets.dataset(43906).processes()"
   ]
  }
 ],
 "metadata": {
  "kernelspec": {
   "display_name": "Python 3.7.3 64-bit ('anaconda3': virtualenv)",
   "language": "python",
   "name": "python37364bitanaconda3virtualenv8a08ce30f8a34340bd51b2a42e0c5d3d"
  },
  "language_info": {
   "codemirror_mode": {
    "name": "ipython",
    "version": 3
   },
   "file_extension": ".py",
   "mimetype": "text/x-python",
   "name": "python",
   "nbconvert_exporter": "python",
   "pygments_lexer": "ipython3",
   "version": "3.11.4"
  }
 },
 "nbformat": 4,
 "nbformat_minor": 5
}
