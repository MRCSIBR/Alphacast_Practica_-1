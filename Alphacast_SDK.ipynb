{
 "cells": [
  {
   "cell_type": "markdown",
   "id": "703f91f2",
   "metadata": {},
   "source": [
    "https://learn.alphacast.io/\n",
    "https://alphacast-python-sdk.readthedocs.io/en/latest/reference.html#uploading-data"
   ]
  },
  {
   "cell_type": "code",
   "execution_count": 1,
   "id": "f7b7477e",
   "metadata": {},
   "outputs": [
    {
     "name": "stdout",
     "output_type": "stream",
     "text": [
      "Collecting alphacast\n",
      "  Obtaining dependency information for alphacast from https://files.pythonhosted.org/packages/1b/68/3b925697d811774106b8e095fe3391fd4c2b70c2965d9cf0172933a5e014/alphacast-0.1.8.4-py3-none-any.whl.metadata\n",
      "  Downloading alphacast-0.1.8.4-py3-none-any.whl.metadata (809 bytes)\n",
      "Requirement already satisfied: requests in /home/krelar/anaconda3/lib/python3.11/site-packages (from alphacast) (2.31.0)\n",
      "Requirement already satisfied: pandas in /home/krelar/anaconda3/lib/python3.11/site-packages (from alphacast) (2.2.2)\n",
      "Collecting python-dotenv (from alphacast)\n",
      "  Obtaining dependency information for python-dotenv from https://files.pythonhosted.org/packages/6a/3e/b68c118422ec867fa7ab88444e1274aa40681c606d59ac27de5a5588f082/python_dotenv-1.0.1-py3-none-any.whl.metadata\n",
      "  Downloading python_dotenv-1.0.1-py3-none-any.whl.metadata (23 kB)\n",
      "Requirement already satisfied: numpy>=1.23.2 in /home/krelar/anaconda3/lib/python3.11/site-packages (from pandas->alphacast) (1.24.3)\n",
      "Requirement already satisfied: python-dateutil>=2.8.2 in /home/krelar/anaconda3/lib/python3.11/site-packages (from pandas->alphacast) (2.8.2)\n",
      "Requirement already satisfied: pytz>=2020.1 in /home/krelar/anaconda3/lib/python3.11/site-packages (from pandas->alphacast) (2022.7)\n",
      "Requirement already satisfied: tzdata>=2022.7 in /home/krelar/anaconda3/lib/python3.11/site-packages (from pandas->alphacast) (2023.3)\n",
      "Requirement already satisfied: charset-normalizer<4,>=2 in /home/krelar/anaconda3/lib/python3.11/site-packages (from requests->alphacast) (2.0.4)\n",
      "Requirement already satisfied: idna<4,>=2.5 in /home/krelar/anaconda3/lib/python3.11/site-packages (from requests->alphacast) (3.4)\n",
      "Requirement already satisfied: urllib3<3,>=1.21.1 in /home/krelar/anaconda3/lib/python3.11/site-packages (from requests->alphacast) (1.26.19)\n",
      "Requirement already satisfied: certifi>=2017.4.17 in /home/krelar/anaconda3/lib/python3.11/site-packages (from requests->alphacast) (2024.12.14)\n",
      "Requirement already satisfied: six>=1.5 in /home/krelar/anaconda3/lib/python3.11/site-packages (from python-dateutil>=2.8.2->pandas->alphacast) (1.16.0)\n",
      "Downloading alphacast-0.1.8.4-py3-none-any.whl (5.2 kB)\n",
      "Downloading python_dotenv-1.0.1-py3-none-any.whl (19 kB)\n",
      "Installing collected packages: python-dotenv, alphacast\n",
      "Successfully installed alphacast-0.1.8.4 python-dotenv-1.0.1\n",
      "Note: you may need to restart the kernel to use updated packages.\n"
     ]
    }
   ],
   "source": [
    "pip install alphacast"
   ]
  },
  {
   "cell_type": "code",
   "execution_count": 1,
   "id": "a215ad56",
   "metadata": {},
   "outputs": [
    {
     "name": "stderr",
     "output_type": "stream",
     "text": [
      "/home/krelar/anaconda3/lib/python3.11/site-packages/pandas/core/arrays/masked.py:60: UserWarning: Pandas requires version '1.3.6' or newer of 'bottleneck' (version '1.3.5' currently installed).\n",
      "  from pandas.core import (\n"
     ]
    },
    {
     "data": {
      "text/plain": [
       "[{'id': 16347,\n",
       "  'name': 'Home',\n",
       "  'accountId': 8755,\n",
       "  'description': '',\n",
       "  'privacy': 'Private',\n",
       "  'slug': 'home-16347',\n",
       "  'permission': 'Owner'},\n",
       " {'id': 16348,\n",
       "  'name': \"MIbarra83's Public Repo\",\n",
       "  'accountId': 8755,\n",
       "  'description': 'You can use you first public repository to share content with the community',\n",
       "  'privacy': 'Public',\n",
       "  'slug': 'mibarra83-s-public-repo-16348',\n",
       "  'permission': 'Owner'}]"
      ]
     },
     "execution_count": 1,
     "metadata": {},
     "output_type": "execute_result"
    }
   ],
   "source": [
    "## Alphacast \n",
    "from alphacast import Alphacast\n",
    "\n",
    "API = 'ak_ZcvH7CLz356nl0aF5DMv'\n",
    "\n",
    "alphacast = Alphacast(API)\n",
    "\n",
    "alphacast.repository.read_all()"
   ]
  },
  {
   "cell_type": "code",
   "execution_count": 4,
   "id": "b8b0e591",
   "metadata": {},
   "outputs": [
    {
     "data": {
      "text/plain": [
       "{'id': 43905,\n",
       " 'name': 'Test_IPC',\n",
       " 'createdAt': '2025-01-15T11:19:05.429636',\n",
       " 'repositoryId': 16347}"
      ]
     },
     "execution_count": 4,
     "metadata": {},
     "output_type": "execute_result"
    }
   ],
   "source": [
    "## Leer: Crear datasets / Subir Data\n",
    "\n",
    "dataset_name = \"Test_IPC\"  # Nombre del dataset\n",
    "repo_id = 16347  # ID del repositorio donde se creará el dataset\n",
    "description = \"Este es un dataset de ejemplo para demostrar cómo subir datos a Alphacast.\"\n",
    "file_path = \"Output_IPC.csv\"  # Ruta al archivo CSV\n",
    "\n",
    "# Crear Dataset\n",
    "alphacast.datasets.create(dataset_name, repo_id, description)"
   ]
  },
  {
   "cell_type": "markdown",
   "id": "605220a7",
   "metadata": {},
   "source": [
    "    {'id': 43905,\n",
    "     'name': 'Test_IPC',\n",
    "     'createdAt': '2025-01-15T11:19:05.429636',\n",
    "     'repositoryId': 16347}"
   ]
  }
 ],
 "metadata": {
  "kernelspec": {
   "display_name": "Python 3.7.3 64-bit ('anaconda3': virtualenv)",
   "language": "python",
   "name": "python37364bitanaconda3virtualenv8a08ce30f8a34340bd51b2a42e0c5d3d"
  },
  "language_info": {
   "codemirror_mode": {
    "name": "ipython",
    "version": 3
   },
   "file_extension": ".py",
   "mimetype": "text/x-python",
   "name": "python",
   "nbconvert_exporter": "python",
   "pygments_lexer": "ipython3",
   "version": "3.11.4"
  }
 },
 "nbformat": 4,
 "nbformat_minor": 5
}
