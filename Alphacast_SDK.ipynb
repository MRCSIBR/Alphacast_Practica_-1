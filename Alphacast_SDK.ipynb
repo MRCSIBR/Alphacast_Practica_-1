{
 "cells": [
  {
   "cell_type": "markdown",
   "id": "703f91f2",
   "metadata": {},
   "source": [
    "https://learn.alphacast.io/\n",
    "https://alphacast-python-sdk.readthedocs.io/en/latest/reference.html#uploading-data"
   ]
  },
  {
   "cell_type": "code",
   "execution_count": 1,
   "id": "f7b7477e",
   "metadata": {},
   "outputs": [
    {
     "name": "stdout",
     "output_type": "stream",
     "text": [
      "Collecting alphacast\n",
      
      "Note: you may need to restart the kernel to use updated packages.\n"
     ]
    }
   ],
   "source": [
    "pip install alphacast"
   ]
  },
  {
   "cell_type": "code",
   "execution_count": 1,
   "id": "a215ad56",
   "metadata": {},
   "outputs": [
    {
     "name": "stderr",
     "output_type": "stream",
     "text": [
      "/home/krelar/anaconda3/lib/python3.11/site-packages/pandas/core/arrays/masked.py:60: UserWarning: Pandas requires version '1.3.6' or newer of 'bottleneck' (version '1.3.5' currently installed).\n",
      "  from pandas.core import (\n"
     ]
    },
    {
     "data": {
      "text/plain": [
       "[{'id': 16347,\n",
       "  'name': 'Home',\n",
       "  'accountId': 8755,\n",
       "  'description': '',\n",
       "  'privacy': 'Private',\n",
       "  'slug': 'home-16347',\n",
       "  'permission': 'Owner'},\n",
       " {'id': 16348,\n",
       "  'name': \"MIbarra83's Public Repo\",\n",
       "  'accountId': 8755,\n",
       "  'description': 'You can use you first public repository to share content with the community',\n",
       "  'privacy': 'Public',\n",
       "  'slug': 'mibarra83-s-public-repo-16348',\n",
       "  'permission': 'Owner'}]"
      ]
     },
     "execution_count": 1,
     "metadata": {},
     "output_type": "execute_result"
    }
   ],
   "source": [
    "## Alphacast \n",
    "from alphacast import Alphacast\n",
    "\n",
    "API = 'ak_ZcvH7CLz356nl0aF5DMv'\n",
    "\n",
    "alphacast = Alphacast(API)\n",
    "\n",
    "alphacast.repository.read_all()"
   ]
  },
  {
   "cell_type": "code",
   "execution_count": 4,
   "id": "b8b0e591",
   "metadata": {},
   "outputs": [
    {
     "data": {
      "text/plain": [
       "{'id': 43905,\n",
       " 'name': 'Test_IPC',\n",
       " 'createdAt': '2025-01-15T11:19:05.429636',\n",
       " 'repositoryId': 16347}"
      ]
     },
     "execution_count": 4,
     "metadata": {},
     "output_type": "execute_result"
    }
   ],
   "source": [
    "## Leer: Crear datasets / Subir Data\n",
    "\n",
    "dataset_name = \"Test_IPC\"  # Nombre del dataset\n",
    "repo_id = 16347  # ID del repositorio donde se creará el dataset\n",
    "description = \"Este es un dataset de ejemplo para demostrar cómo subir datos a Alphacast.\"\n",
    "file_path = \"Output_IPC.csv\"  # Ruta al archivo CSV\n",
    "\n",
    "# Crear Dataset\n",
    "alphacast.datasets.create(dataset_name, repo_id, description)"
   ]
  },
  {
   "cell_type": "markdown",
   "id": "605220a7",
   "metadata": {},
   "source": [
    "    {'id': 43905,\n",
    "     'name': 'Test_IPC',\n",
    "     'createdAt': '2025-01-15T11:19:05.429636',\n",
    "     'repositoryId': 16347}"
   ]
  }
 ],
 "metadata": {
  "kernelspec": {
   "display_name": "Python 3.7.3 64-bit ('anaconda3': virtualenv)",
   "language": "python",
   "name": "python37364bitanaconda3virtualenv8a08ce30f8a34340bd51b2a42e0c5d3d"
  },
  "language_info": {
   "codemirror_mode": {
    "name": "ipython",
    "version": 3
   },
   "file_extension": ".py",
   "mimetype": "text/x-python",
   "name": "python",
   "nbconvert_exporter": "python",
   "pygments_lexer": "ipython3",
   "version": "3.11.4"
  }
 },
 "nbformat": 4,
 "nbformat_minor": 5
}
